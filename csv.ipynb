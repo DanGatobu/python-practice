{
 "cells": [
  {
   "cell_type": "code",
   "execution_count": 1,
   "metadata": {},
   "outputs": [],
   "source": [
    "import pandas as pd"
   ]
  },
  {
   "cell_type": "code",
   "execution_count": 3,
   "metadata": {},
   "outputs": [],
   "source": [
    "# daily=pd.read_csv('GOLD_Daily_201501020000_202311150000.csv')\n",
    "# m5=pd.read_csv('GOLD_M5_201501020805_202311151620.csv')\n",
    "m15=pd.read_csv('GOLD_M15_201501020800_202311151615.csv')\n",
    "# m30=pd.read_csv('GOLD_M30_201501020800_202311151600.csv')\n",
    "# h1=pd.read_csv('GOLD_H1_201501020800_202311151500.csv')\n",
    "# h4=pd.read_csv('GOLD_H4_201501020800_202311151200.csv')\n",
    "# h12=pd.read_csv('GOLD_H12_201501020000_202311151200.csv')\n",
    "# m1=pd.read_csv('GOLD_M1_201501020806_202311151619.csv')\n",
    "# weekly=pd.read_csv('GOLD_Weekly_201501040000_202311120000.csv')\n"
   ]
  },
  {
   "cell_type": "code",
   "execution_count": 19,
   "metadata": {},
   "outputs": [
    {
     "name": "stdout",
     "output_type": "stream",
     "text": [
      "  <DATE>\\t<TIME>\\t<OPEN>\\t<HIGH>\\t<LOW>\\t<CLOSE>\\t<TICKVOL>\\t<VOL>\\t<SPREAD>\n",
      "0  2015.01.02\\t08:00:00\\t1186.07\\t1187.03\\t1186.0...                        \n",
      "1  2015.01.02\\t08:15:00\\t1187.03\\t1187.03\\t1186.5...                        \n",
      "2  2015.01.02\\t08:30:00\\t1186.83\\t1187.23\\t1186.0...                        \n",
      "3  2015.01.02\\t08:45:00\\t1186.35\\t1186.99\\t1186.3...                        \n",
      "4  2015.01.02\\t09:00:00\\t1186.94\\t1187.04\\t1185.4...                        \n"
     ]
    }
   ],
   "source": [
    "print(m15.head())"
   ]
  },
  {
   "cell_type": "code",
   "execution_count": 5,
   "metadata": {},
   "outputs": [],
   "source": [
    "# ohlc_data_dict = {\n",
    "#     'daily': daily,\n",
    "#     '4hr': h4,\n",
    "#     '1hr': h1,\n",
    "#     '12hr':h12,\n",
    "#     '30min': m30,\n",
    "#     '15min': m15,\n",
    "#     '5min': m5,\n",
    "#     '1min': m1,\n",
    "#     'weekly': weekly\n",
    "# }\n",
    "\n",
    "\n"
   ]
  },
  {
   "cell_type": "code",
   "execution_count": 7,
   "metadata": {},
   "outputs": [],
   "source": [
    "import datetime"
   ]
  },
  {
   "cell_type": "code",
   "execution_count": 15,
   "metadata": {},
   "outputs": [],
   "source": [
    "from function_creator import get_data\n"
   ]
  },
  {
   "cell_type": "code",
   "execution_count": 17,
   "metadata": {},
   "outputs": [],
   "source": [
    "currency_pair = 'GOLD'\n",
    "selected_timeframes = ['D1', 'H4', 'H1','M15','M5','M1']\n",
    "start_date = '2015-01-01'\n",
    "end_date = datetime.datetime.now()\n",
    "\n",
    "ohlc_data_dict = get_data(currency_pair, selected_timeframes, start_date, end_date)\n"
   ]
  },
  {
   "cell_type": "code",
   "execution_count": null,
   "metadata": {},
   "outputs": [],
   "source": []
  }
 ],
 "metadata": {
  "kernelspec": {
   "display_name": "trade2",
   "language": "python",
   "name": "python3"
  },
  "language_info": {
   "codemirror_mode": {
    "name": "ipython",
    "version": 3
   },
   "file_extension": ".py",
   "mimetype": "text/x-python",
   "name": "python",
   "nbconvert_exporter": "python",
   "pygments_lexer": "ipython3",
   "version": "3.8.5"
  }
 },
 "nbformat": 4,
 "nbformat_minor": 2
}
