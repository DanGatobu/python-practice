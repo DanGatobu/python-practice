{
 "cells": [
  {
   "cell_type": "code",
   "execution_count": null,
   "metadata": {},
   "outputs": [],
   "source": [
    "from functions import get_data\n",
    "import pandas as pd\n",
    "import numpy as np\n"
   ]
  },
  {
   "cell_type": "code",
   "execution_count": null,
   "metadata": {},
   "outputs": [],
   "source": [
    "us_data=get_data('GOLD')"
   ]
  },
  {
   "cell_type": "code",
   "execution_count": null,
   "metadata": {},
   "outputs": [],
   "source": [
    "def x_points(data,index):\n",
    "    data['mtime'] = pd.to_datetime(data['time'], unit='s')\n",
    "    start_date = data['mtime'][index].date()\n",
    "    t=data['mtime'][index].time()\n",
    "    print(f'start time {t}')\n",
    "    print(f'start date{start_date}')\n",
    "    filtered_data = data[(data['mtime'].dt.date == start_date) & (data.index <= index)]\n",
    "    # print(filtered_data)\n",
    "    # print(f'filtered_data:\\n{filtered_data.head()}')\n",
    "    max_value = filtered_data['Close'].max()\n",
    "    min_value = filtered_data['Close'].min()\n",
    "    return max_value, min_value\n",
    "    \n",
    "    "
   ]
  },
  {
   "cell_type": "code",
   "execution_count": null,
   "metadata": {},
   "outputs": [],
   "source": [
    "us_data['mtime']=pd.to_datetime(us_data['time'],unit='s')\n",
    "us_data['mtime']"
   ]
  },
  {
   "cell_type": "code",
   "execution_count": null,
   "metadata": {},
   "outputs": [],
   "source": [
    "h,j=x_points(us_data,40000)\n",
    "print(h,j)"
   ]
  },
  {
   "cell_type": "code",
   "execution_count": null,
   "metadata": {},
   "outputs": [],
   "source": [
    "def distance_checker(price,value,lim):\n",
    "    plh=price-value\n",
    "    plh=abs(plh)\n",
    "    if plh >lim:\n",
    "        return 1\n",
    "    else:\n",
    "        return 0\n",
    "    \n",
    "    "
   ]
  },
  {
   "cell_type": "code",
   "execution_count": null,
   "metadata": {},
   "outputs": [],
   "source": [
    "def find_status(data,index,window,size):\n",
    "    cspreads=[]\n",
    "    for i in range(window):\n",
    "        datapoint=data[index-i]\n",
    "        close=datapoint['Close']\n",
    "        openv=datapoint['Open']\n",
    "        cspread=abs(close-openv)\n",
    "        cspreads.append(cspread)\n",
    "    if max(cspreads)>size:\n",
    "        return 1\n",
    "    else:\n",
    "        return 0\n",
    "    "
   ]
  },
  {
   "cell_type": "code",
   "execution_count": null,
   "metadata": {},
   "outputs": [],
   "source": [
    "from functions import calc_prof"
   ]
  },
  {
   "cell_type": "code",
   "execution_count": null,
   "metadata": {},
   "outputs": [],
   "source": [
    "def daily(data,starttime,adjtime,lim,window,c_size,sl_adj,multiplier):\n",
    "    trades=[]\n",
    "    for i in range(len(data)):\n",
    "        time=data['mtime'][i].time\n",
    "        adj_time = pd.to_datetime(adjtime).time()# adtime being such astring '03:00:00'\n",
    "        if time<adj_time:\n",
    "            continue\n",
    "        else:\n",
    "            trade=0\n",
    "            tday=data['date'][i]\n",
    "            target_datetime = pd.to_datetime(f'{tday} {starttime}')\n",
    "            val=data[data['mtime'] == target_datetime]['value'].values\n",
    "            startindex=val.index\n",
    "            begin_max_value,begin_min_value=x_points(data,startindex)\n",
    "            maxv=begin_max_value\n",
    "            minv=begin_min_value\n",
    "            opendate=None\n",
    "            openprice=0\n",
    "            tp=0\n",
    "            sl=0\n",
    "            price=data['Close'][i]\n",
    "            if trade==0:\n",
    "                if price>maxv:\n",
    "                    if distance_checker(price,maxv,lim)==0:\n",
    "                        maxv=price\n",
    "                        continue\n",
    "                    elif distance_checker(price,maxv,lim)==1:\n",
    "                        if find_status(data,i,window,c_size)==1:\n",
    "                            trade=-1\n",
    "                            openprice=price\n",
    "                            opendate=data['time'][i]\n",
    "                            lowp=data['Low'][i]\n",
    "                            sl=lowp-sl_adj\n",
    "                            expectedloss=price-sl\n",
    "                            target_tp=expectedloss*multiplier\n",
    "                            tp=price+target_tp\n",
    "                            continue\n",
    "                        else:\n",
    "                            continue\n",
    "                            \n",
    "                elif price<minv:\n",
    "                    if distance_checker(price,minv,lim)==0:\n",
    "                        minv=price\n",
    "                        continue\n",
    "                    elif distance_checker(price,minv,lim)==1:\n",
    "                        if find_status(data,i,window,c_size)==1:\n",
    "                            trade=1\n",
    "                            openprice=price\n",
    "                            opendate=data['time'][i]\n",
    "                            highp=data['High'][i]\n",
    "                            sl=highp-sl_adj\n",
    "                            expectedloss=sl-price\n",
    "                            target_tp=expectedloss*multiplier\n",
    "                            tp=price-target_tp\n",
    "                            \n",
    "                            continue\n",
    "                        else:\n",
    "                            continue\n",
    "            if trade==1:\n",
    "                if price>tp:\n",
    "                    \n",
    "                    closedate=data['time'][i]     \n",
    "                    profit=calc_prof(price,openprice)\n",
    "                    trades.append('Buy',opendate,closedate,profit)\n",
    "                    \n",
    "                    trade=0\n",
    "                    continue\n",
    "                elif price<sl:\n",
    "                    closedate=data['time'][i]\n",
    "                    profit=calc_prof(price,openprice)\n",
    "                    trades.append('Buy',opendate,closedate,profit)\n",
    "                    \n",
    "                    trade=0\n",
    "                    continue\n",
    "            elif trade==-1:\n",
    "                if price<tp:\n",
    "                    closedate=data['time'][i]\n",
    "                    profit=calc_prof(openprice,price)\n",
    "                    trades.append('Sell',opendate,closedate,profit)\n",
    "                    \n",
    "                    trade=0\n",
    "                    continue\n",
    "                elif price>sl:\n",
    "                    closedate=data['time'][i]\n",
    "                    profit=calc_prof(openprice,price)\n",
    "                    trades.append('Sell',opendate,closedate,profit)\n",
    "                    \n",
    "                    trade=0\n",
    "                    continue\n",
    "    return trades\n",
    "                    \n",
    "                \n",
    "        \n",
    "        \n",
    "        \n",
    "        "
   ]
  },
  {
   "cell_type": "code",
   "execution_count": null,
   "metadata": {},
   "outputs": [],
   "source": [
    "testing_dt=us_data[400:10000]"
   ]
  },
  {
   "cell_type": "code",
   "execution_count": null,
   "metadata": {},
   "outputs": [],
   "source": [
    "y=daily(testing_dt,'03:00:00','03:00:00',3.0,4,4.5,2.5,2.5)"
   ]
  },
  {
   "cell_type": "code",
   "execution_count": null,
   "metadata": {},
   "outputs": [],
   "source": []
  }
 ],
 "metadata": {
  "kernelspec": {
   "display_name": "agent00",
   "language": "python",
   "name": "python3"
  },
  "language_info": {
   "codemirror_mode": {
    "name": "ipython",
    "version": 3
   },
   "file_extension": ".py",
   "mimetype": "text/x-python",
   "name": "python",
   "nbconvert_exporter": "python",
   "pygments_lexer": "ipython3",
   "version": "3.10.13"
  }
 },
 "nbformat": 4,
 "nbformat_minor": 2
}
