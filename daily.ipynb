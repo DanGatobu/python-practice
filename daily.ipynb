{
 "cells": [
  {
   "cell_type": "code",
   "execution_count": 1,
   "metadata": {},
   "outputs": [],
   "source": [
    "from functions import get_data\n",
    "import pandas as pd\n",
    "import numpy as np\n"
   ]
  },
  {
   "cell_type": "code",
   "execution_count": 2,
   "metadata": {},
   "outputs": [],
   "source": [
    "us_data=get_data('GOLD')"
   ]
  },
  {
   "cell_type": "code",
   "execution_count": 28,
   "metadata": {},
   "outputs": [],
   "source": [
    "def x_points(data,index):\n",
    "    # index=index.tolist()[0]\n",
    "    val_h=data.iloc[index]\n",
    "    start_date = val_h['mtime'].date()\n",
    "    t=val_h['mtime'].time()\n",
    "    filtered_data = data[(data['mtime'].dt.date == start_date) & (data.index <= index)]\n",
    "    # print(filtered_data)\n",
    "    # print(f'filtered_data:\\n{filtered_data.head()}')\n",
    "    max_value = filtered_data['Close'].max()\n",
    "    min_value = filtered_data['Close'].min()\n",
    "    return max_value, min_value\n",
    "    \n",
    "    "
   ]
  },
  {
   "cell_type": "code",
   "execution_count": 4,
   "metadata": {},
   "outputs": [
    {
     "data": {
      "text/plain": [
       "0        2015-01-02 08:00:00\n",
       "1        2015-01-02 08:15:00\n",
       "2        2015-01-02 08:30:00\n",
       "3        2015-01-02 08:45:00\n",
       "4        2015-01-02 09:00:00\n",
       "                 ...        \n",
       "211463   2023-12-15 22:45:00\n",
       "211464   2023-12-15 23:00:00\n",
       "211465   2023-12-15 23:15:00\n",
       "211466   2023-12-15 23:30:00\n",
       "211467   2023-12-15 23:45:00\n",
       "Name: mtime, Length: 211468, dtype: datetime64[ns]"
      ]
     },
     "execution_count": 4,
     "metadata": {},
     "output_type": "execute_result"
    }
   ],
   "source": [
    "us_data['mtime']=pd.to_datetime(us_data['time'],unit='s')\n",
    "us_data['mtime']"
   ]
  },
  {
   "cell_type": "code",
   "execution_count": 5,
   "metadata": {},
   "outputs": [],
   "source": [
    "def distance_checker(price,value,lim):\n",
    "    plh=price-value\n",
    "    plh=abs(plh)\n",
    "    if plh >lim:\n",
    "        return 1\n",
    "    else:\n",
    "        return 0\n",
    "    \n",
    "    "
   ]
  },
  {
   "cell_type": "code",
   "execution_count": 44,
   "metadata": {},
   "outputs": [],
   "source": [
    "def find_status(data,index,window,size):\n",
    "    cspreads=[]\n",
    "    # print(index,window,size)\n",
    "    # print(\"fstatus here1\")\n",
    "    for i in range(window):\n",
    "        datapoint=data.iloc[index-i]\n",
    "        close=datapoint['Close']\n",
    "        openv=datapoint['Open']\n",
    "        cspread=abs(close-openv)\n",
    "        cspreads.append(cspread)\n",
    "    # print(\"fstatus here2\")\n",
    "    if max(cspreads)>size:\n",
    "        return 1\n",
    "    else:\n",
    "        return 0\n",
    "    "
   ]
  },
  {
   "cell_type": "code",
   "execution_count": 7,
   "metadata": {},
   "outputs": [],
   "source": [
    "from functions import calc_prof"
   ]
  },
  {
   "cell_type": "code",
   "execution_count": 48,
   "metadata": {},
   "outputs": [],
   "source": [
    "def daily(data,starttime,adjtime,lim,window,c_size,sl_adj,multiplier):\n",
    "    trades=[]\n",
    "    trade=0\n",
    "    opendate=None\n",
    "    openprice=0\n",
    "    tp=0\n",
    "    sl=0\n",
    "    for i in range(len(data)):\n",
    "        val_h=data.loc[i]\n",
    "        time=val_h['mtime'].time()\n",
    "        adj_time = pd.to_datetime(adjtime).time()# adtime being such astring '03:00:00'\n",
    "        if time<adj_time:\n",
    "            continue\n",
    "        else:\n",
    "            \n",
    "            tday=val_h['mtime'].date()\n",
    "            target_datetime = pd.to_datetime(f'{tday} {starttime}')\n",
    "            # print(target_datetime)\n",
    "            val=data[data['mtime'] == target_datetime]\n",
    "            # print(val)\n",
    "            # print(val.index)\n",
    "            \n",
    "            startindex=val.index\n",
    "            ind=startindex.tolist()[0]\n",
    "            begin_max_value,begin_min_value=x_points(data,ind)\n",
    "            maxv=begin_max_value\n",
    "            # print(maxv)\n",
    "            minv=begin_min_value\n",
    "            # print(minv)\n",
    "            \n",
    "            # print(f'tade{trade}')\n",
    "            price=val_h['Close']\n",
    "            if trade==0:\n",
    "                if price>maxv:\n",
    "                    if distance_checker(price,maxv,lim)==0:\n",
    "                        maxv=price\n",
    "                        continue\n",
    "                    elif distance_checker(price,maxv,lim)==1:\n",
    "                        # print('i am here 4')\n",
    "                        if find_status(data,i,window,c_size)==1:\n",
    "                            # print('HEREEE')\n",
    "                            # print(ind)\n",
    "                            trade=-1\n",
    "                            openprice=price\n",
    "                            opendate=val_h['time']\n",
    "                            lowp=val_h['Low']\n",
    "                            # print('i am here ')\n",
    "                            sl=lowp-sl_adj\n",
    "                            expectedloss=price-sl\n",
    "                            target_tp=expectedloss*multiplier\n",
    "                            tp=price+target_tp\n",
    "                            # print(trade)\n",
    "\n",
    "                            \n",
    "                elif price<minv:\n",
    "                    if distance_checker(price,minv,lim)==0:\n",
    "                        minv=price\n",
    "                        continue\n",
    "                    elif distance_checker(price,minv,lim)==1:\n",
    "                        # print('i am here3 ')\n",
    "                        if find_status(data,i,window,c_size)==1:\n",
    "                            # print('found me 1')\n",
    "                            trade=1\n",
    "                            openprice=price\n",
    "                            # print(trade)\n",
    "                            opendate=val_h['time']\n",
    "                            # print('i am here2 ')\n",
    "                            highp=val_h['High']\n",
    "                            sl=highp-sl_adj\n",
    "                            expectedloss=sl-price\n",
    "                            target_tp=expectedloss*multiplier\n",
    "                            tp=price-target_tp\n",
    "            elif trade==1:\n",
    "                # print('i am here8 ')\n",
    "                if price>tp:\n",
    "                    # print('i am here 6')\n",
    "                    closedate=val_h['time'] \n",
    "                    profit=calc_prof(price,openprice)\n",
    "                    trades.append(('Buy',opendate,closedate,profit))\n",
    "                    \n",
    "                    trade=0\n",
    "                elif price<sl:\n",
    "                    # print('i am here7 ')\n",
    "                    closedate=val_h['time']\n",
    "                    profit=calc_prof(price,openprice)\n",
    "                    trades.append(('Buy',opendate,closedate,profit))\n",
    "                    \n",
    "                    trade=0\n",
    "            elif trade==-1:\n",
    "                # print('i am here 9 ')\n",
    "                if price<tp:\n",
    "                    # print('i am here 10 ')\n",
    "                    closedate=val_h['time']\n",
    "                    profit=calc_prof(openprice,price)\n",
    "                    trades.append(('Sell',opendate,closedate,profit))\n",
    "                    \n",
    "                    trade=0\n",
    "                elif price>sl:\n",
    "                    # print('i am here 11 ')\n",
    "                    closedate=val_h['time']\n",
    "                    profit=calc_prof(openprice,price)\n",
    "                    trades.append(('Sell',opendate,closedate,profit))\n",
    "                    \n",
    "                    trade=0\n",
    "    return trades\n",
    "                    \n",
    "                "
   ]
  },
  {
   "cell_type": "code",
   "execution_count": 74,
   "metadata": {},
   "outputs": [],
   "source": [
    "def daily(data,starttime,adjtime,lim,window,c_size,sl_adj,multiplier):\n",
    "    trades=[]\n",
    "    trade=0\n",
    "    opendate=None\n",
    "    openprice=0\n",
    "    tp=0\n",
    "    sl=0\n",
    "    for i in range(len(data)):\n",
    "        val_h=data.loc[i]\n",
    "        time=val_h['mtime'].time()\n",
    "        adj_time = pd.to_datetime(adjtime).time()# adtime being such astring '03:00:00'\n",
    "        if time<adj_time:\n",
    "            continue\n",
    "        else:\n",
    "            \n",
    "            tday=val_h['mtime'].date()\n",
    "            target_datetime = pd.to_datetime(f'{tday} {starttime}')\n",
    "            # print(target_datetime)\n",
    "            val=data[data['mtime'] == target_datetime]\n",
    "            # print(val)\n",
    "            # print(val.index)\n",
    "            \n",
    "            startindex=val.index\n",
    "            ind=startindex.tolist()[0]\n",
    "            begin_max_value,begin_min_value=x_points(data,ind)\n",
    "            maxv=begin_max_value\n",
    "            # print(maxv)\n",
    "            minv=begin_min_value\n",
    "            # print(minv)\n",
    "            \n",
    "            # print(f'tade{trade}')\n",
    "            price=val_h['Close']\n",
    "            if trade==0:\n",
    "                if price>maxv:\n",
    "                    if distance_checker(price,maxv,lim)==0:\n",
    "                        maxv=price\n",
    "                        continue\n",
    "                    elif distance_checker(price,maxv,lim)==1:\n",
    "                        # print('i am here 4')\n",
    "                        if find_status(data,i,window,c_size)==1:\n",
    "                            # print('HEREEE')\n",
    "                            # print(ind)\n",
    "                            trade=-1\n",
    "                            openprice=price\n",
    "                            opendate=val_h['time']\n",
    "                            lowp=val_h['Low']\n",
    "                            # print('i am here ')\n",
    "                            sl=lowp-sl_adj\n",
    "                            expectedloss=price-sl\n",
    "                            target_tp=expectedloss*multiplier\n",
    "                            tp=price+target_tp\n",
    "                            # print(trade)\n",
    "\n",
    "                            \n",
    "                elif price<minv:\n",
    "                    if distance_checker(price,minv,lim)==0:\n",
    "                        minv=price\n",
    "                        continue\n",
    "                    elif distance_checker(price,minv,lim)==1:\n",
    "                        # print('i am here3 ')\n",
    "                        if find_status(data,i,window,c_size)==1:\n",
    "                            # print('found me 1')\n",
    "                            trade=1\n",
    "                            openprice=price\n",
    "                            # print(trade)\n",
    "                            opendate=val_h['time']\n",
    "                            # print('i am here2 ')\n",
    "                            highp=val_h['High']\n",
    "                            sl=highp-sl_adj\n",
    "                            expectedloss=sl-price\n",
    "                            target_tp=expectedloss*multiplier\n",
    "                            tp=price-target_tp\n",
    "            elif trade==1:\n",
    "                # print('i am here8 ')\n",
    "                if price>tp:\n",
    "                    # print('i am here 6')\n",
    "                    closedate=val_h['time'] \n",
    "                    profit=calc_prof(price,openprice)\n",
    "                    trades.append(('Buy',opendate,closedate,profit))\n",
    "                    \n",
    "                    trade=0\n",
    "                elif price<sl:\n",
    "                    # print('i am here7 ')\n",
    "                    closedate=val_h['time']\n",
    "                    profit=calc_prof(price,openprice)\n",
    "                    trades.append(('Buy',opendate,closedate,profit))\n",
    "                    \n",
    "                    trade=0\n",
    "            elif trade==-1:\n",
    "                # print('i am here 9 ')\n",
    "                if price<tp:\n",
    "                    # print('i am here 10 ')\n",
    "                    closedate=val_h['time']\n",
    "                    profit=calc_prof(openprice,price)\n",
    "                    trades.append(('Sell',opendate,closedate,profit))\n",
    "                    \n",
    "                    trade=0\n",
    "                elif price>sl:\n",
    "                    # print('i am here 11 ')\n",
    "                    closedate=val_h['time']\n",
    "                    profit=calc_prof(openprice,price)\n",
    "                    trades.append(('Sell',opendate,closedate,profit))\n",
    "                    \n",
    "                    trade=0\n",
    "    return trades\n",
    "                    \n",
    "                "
   ]
  },
  {
   "cell_type": "code",
   "execution_count": 32,
   "metadata": {},
   "outputs": [],
   "source": [
    "testing_dt=us_data2[:10000]\n",
    "\n"
   ]
  },
  {
   "cell_type": "code",
   "execution_count": 31,
   "metadata": {},
   "outputs": [],
   "source": [
    "us_data2 = us_data[us_data['mtime'].dt.date != pd.to_datetime('2015-01-02').date()]\n"
   ]
  },
  {
   "cell_type": "code",
   "execution_count": 33,
   "metadata": {},
   "outputs": [],
   "source": [
    "testing_dt.reset_index(drop=True, inplace=True)"
   ]
  },
  {
   "cell_type": "code",
   "execution_count": 23,
   "metadata": {},
   "outputs": [
    {
     "name": "stdout",
     "output_type": "stream",
     "text": [
      "2015-03-04\n",
      "2015-01-02 03:00:00\n",
      "Index([], dtype='int64')\n",
      "<class 'pandas.core.indexes.base.Index'>\n"
     ]
    },
    {
     "ename": "IndexError",
     "evalue": "list index out of range",
     "output_type": "error",
     "traceback": [
      "\u001b[1;31m---------------------------------------------------------------------------\u001b[0m",
      "\u001b[1;31mIndexError\u001b[0m                                Traceback (most recent call last)",
      "\u001b[1;32md:\\needed\\dns projects\\trade\\daily.ipynb Cell 12\u001b[0m line \u001b[0;36m1\n\u001b[0;32m      <a href='vscode-notebook-cell:/d%3A/needed/dns%20projects/trade/daily.ipynb#X15sZmlsZQ%3D%3D?line=7'>8</a>\u001b[0m \u001b[39mprint\u001b[39m(val\u001b[39m.\u001b[39mindex)\n\u001b[0;32m      <a href='vscode-notebook-cell:/d%3A/needed/dns%20projects/trade/daily.ipynb#X15sZmlsZQ%3D%3D?line=8'>9</a>\u001b[0m \u001b[39mprint\u001b[39m(\u001b[39mtype\u001b[39m(val\u001b[39m.\u001b[39mindex))\n\u001b[1;32m---> <a href='vscode-notebook-cell:/d%3A/needed/dns%20projects/trade/daily.ipynb#X15sZmlsZQ%3D%3D?line=9'>10</a>\u001b[0m pu\u001b[39m=\u001b[39mx_points(testing_dt,val\u001b[39m.\u001b[39;49mindex)\n\u001b[0;32m     <a href='vscode-notebook-cell:/d%3A/needed/dns%20projects/trade/daily.ipynb#X15sZmlsZQ%3D%3D?line=10'>11</a>\u001b[0m pu\n",
      "\u001b[1;32md:\\needed\\dns projects\\trade\\daily.ipynb Cell 12\u001b[0m line \u001b[0;36m2\n\u001b[0;32m      <a href='vscode-notebook-cell:/d%3A/needed/dns%20projects/trade/daily.ipynb#X15sZmlsZQ%3D%3D?line=0'>1</a>\u001b[0m \u001b[39mdef\u001b[39;00m \u001b[39mx_points\u001b[39m(data,index):\n\u001b[1;32m----> <a href='vscode-notebook-cell:/d%3A/needed/dns%20projects/trade/daily.ipynb#X15sZmlsZQ%3D%3D?line=1'>2</a>\u001b[0m     index\u001b[39m=\u001b[39mindex\u001b[39m.\u001b[39;49mtolist()[\u001b[39m0\u001b[39;49m]\n\u001b[0;32m      <a href='vscode-notebook-cell:/d%3A/needed/dns%20projects/trade/daily.ipynb#X15sZmlsZQ%3D%3D?line=2'>3</a>\u001b[0m     val_h\u001b[39m=\u001b[39mdata\u001b[39m.\u001b[39miloc[index]\n\u001b[0;32m      <a href='vscode-notebook-cell:/d%3A/needed/dns%20projects/trade/daily.ipynb#X15sZmlsZQ%3D%3D?line=3'>4</a>\u001b[0m     start_date \u001b[39m=\u001b[39m val_h[\u001b[39m'\u001b[39m\u001b[39mmtime\u001b[39m\u001b[39m'\u001b[39m]\u001b[39m.\u001b[39mdate()\n",
      "\u001b[1;31mIndexError\u001b[0m: list index out of range"
     ]
    }
   ],
   "source": [
    "val_h=testing_dt.loc[4000]\n",
    "starttime='03:00:00'\n",
    "tday=val_h['mtime'].date()\n",
    "print(tday)\n",
    "target_datetime = pd.to_datetime('2015-01-02 03:00:00')\n",
    "print(target_datetime)\n",
    "val=testing_dt[testing_dt['mtime'] == target_datetime]\n",
    "print(val.index)\n",
    "print(type(val.index))\n",
    "pu=x_points(testing_dt,val.index)\n",
    "pu"
   ]
  },
  {
   "cell_type": "code",
   "execution_count": 75,
   "metadata": {},
   "outputs": [],
   "source": [
    "y=daily(testing_dt,'03:00:00','03:00:00',3.0,4,4.5,2.5,2.5)"
   ]
  },
  {
   "cell_type": "code",
   "execution_count": 50,
   "metadata": {},
   "outputs": [],
   "source": [
    "from functions import evaluate"
   ]
  },
  {
   "cell_type": "code",
   "execution_count": 52,
   "metadata": {},
   "outputs": [
    {
     "data": {
      "text/plain": [
       "[]"
      ]
     },
     "execution_count": 52,
     "metadata": {},
     "output_type": "execute_result"
    }
   ],
   "source": [
    "y"
   ]
  },
  {
   "cell_type": "code",
   "execution_count": 51,
   "metadata": {},
   "outputs": [
    {
     "ename": "ValueError",
     "evalue": "attempt to get argmax of an empty sequence",
     "output_type": "error",
     "traceback": [
      "\u001b[1;31m---------------------------------------------------------------------------\u001b[0m",
      "\u001b[1;31mValueError\u001b[0m                                Traceback (most recent call last)",
      "\u001b[1;32md:\\needed\\dns projects\\trade\\daily.ipynb Cell 16\u001b[0m line \u001b[0;36m1\n\u001b[1;32m----> <a href='vscode-notebook-cell:/d%3A/needed/dns%20projects/trade/daily.ipynb#X24sZmlsZQ%3D%3D?line=0'>1</a>\u001b[0m ty\u001b[39m=\u001b[39mevaluate(y,\u001b[39m'\u001b[39;49m\u001b[39mdaily\u001b[39;49m\u001b[39m'\u001b[39;49m)\n",
      "File \u001b[1;32md:\\needed\\dns projects\\trade\\functions.py:81\u001b[0m, in \u001b[0;36mevaluate\u001b[1;34m(ls, name)\u001b[0m\n\u001b[0;32m     79\u001b[0m df\u001b[39m=\u001b[39mpd\u001b[39m.\u001b[39mDataFrame(ls, columns\u001b[39m=\u001b[39m[\u001b[39m'\u001b[39m\u001b[39mTradetype\u001b[39m\u001b[39m'\u001b[39m, \u001b[39m'\u001b[39m\u001b[39mdateopened\u001b[39m\u001b[39m'\u001b[39m, \u001b[39m'\u001b[39m\u001b[39mdateclosed\u001b[39m\u001b[39m'\u001b[39m, \u001b[39m'\u001b[39m\u001b[39mprofit\u001b[39m\u001b[39m'\u001b[39m])\n\u001b[0;32m     80\u001b[0m maxprof\u001b[39m=\u001b[39mdf\u001b[39m.\u001b[39mprofit\u001b[39m.\u001b[39mmax()\n\u001b[1;32m---> 81\u001b[0m index_of_maxprof \u001b[39m=\u001b[39m df[\u001b[39m'\u001b[39;49m\u001b[39mprofit\u001b[39;49m\u001b[39m'\u001b[39;49m]\u001b[39m.\u001b[39;49midxmax()\n\u001b[0;32m     82\u001b[0m pips\u001b[39m=\u001b[39mmaxprof\u001b[39m*\u001b[39m\u001b[39m100\u001b[39m\n\u001b[0;32m     83\u001b[0m totalprof\u001b[39m=\u001b[39mdf\u001b[39m.\u001b[39mprofit\u001b[39m.\u001b[39msum()\n",
      "File \u001b[1;32mc:\\Users\\DELL\\anaconda3\\envs\\agent00\\lib\\site-packages\\pandas\\core\\series.py:2641\u001b[0m, in \u001b[0;36mSeries.idxmax\u001b[1;34m(self, axis, skipna, *args, **kwargs)\u001b[0m\n\u001b[0;32m   2636\u001b[0m \u001b[39mwith\u001b[39;00m warnings\u001b[39m.\u001b[39mcatch_warnings():\n\u001b[0;32m   2637\u001b[0m     \u001b[39m# TODO(3.0): this catching/filtering can be removed\u001b[39;00m\n\u001b[0;32m   2638\u001b[0m     \u001b[39m# ignore warning produced by argmax since we will issue a different\u001b[39;00m\n\u001b[0;32m   2639\u001b[0m     \u001b[39m#  warning for argmax\u001b[39;00m\n\u001b[0;32m   2640\u001b[0m     warnings\u001b[39m.\u001b[39msimplefilter(\u001b[39m\"\u001b[39m\u001b[39mignore\u001b[39m\u001b[39m\"\u001b[39m)\n\u001b[1;32m-> 2641\u001b[0m     i \u001b[39m=\u001b[39m \u001b[39mself\u001b[39m\u001b[39m.\u001b[39margmax(axis, skipna, \u001b[39m*\u001b[39margs, \u001b[39m*\u001b[39m\u001b[39m*\u001b[39mkwargs)\n\u001b[0;32m   2643\u001b[0m \u001b[39mif\u001b[39;00m i \u001b[39m==\u001b[39m \u001b[39m-\u001b[39m\u001b[39m1\u001b[39m:\n\u001b[0;32m   2644\u001b[0m     \u001b[39m# GH#43587 give correct NA value for Index.\u001b[39;00m\n\u001b[0;32m   2645\u001b[0m     warnings\u001b[39m.\u001b[39mwarn(\n\u001b[0;32m   2646\u001b[0m         \u001b[39mf\u001b[39m\u001b[39m\"\u001b[39m\u001b[39mThe behavior of \u001b[39m\u001b[39m{\u001b[39;00m\u001b[39mtype\u001b[39m(\u001b[39mself\u001b[39m)\u001b[39m.\u001b[39m\u001b[39m__name__\u001b[39m\u001b[39m}\u001b[39;00m\u001b[39m.idxmax with all-NA \u001b[39m\u001b[39m\"\u001b[39m\n\u001b[0;32m   2647\u001b[0m         \u001b[39m\"\u001b[39m\u001b[39mvalues, or any-NA and skipna=False, is deprecated. In a future \u001b[39m\u001b[39m\"\u001b[39m\n\u001b[1;32m   (...)\u001b[0m\n\u001b[0;32m   2650\u001b[0m         stacklevel\u001b[39m=\u001b[39mfind_stack_level(),\n\u001b[0;32m   2651\u001b[0m     )\n",
      "File \u001b[1;32mc:\\Users\\DELL\\anaconda3\\envs\\agent00\\lib\\site-packages\\pandas\\core\\base.py:751\u001b[0m, in \u001b[0;36mIndexOpsMixin.argmax\u001b[1;34m(self, axis, skipna, *args, **kwargs)\u001b[0m\n\u001b[0;32m    749\u001b[0m         \u001b[39mreturn\u001b[39;00m delegate\u001b[39m.\u001b[39margmax()\n\u001b[0;32m    750\u001b[0m \u001b[39melse\u001b[39;00m:\n\u001b[1;32m--> 751\u001b[0m     result \u001b[39m=\u001b[39m nanops\u001b[39m.\u001b[39;49mnanargmax(delegate, skipna\u001b[39m=\u001b[39;49mskipna)\n\u001b[0;32m    752\u001b[0m     \u001b[39mif\u001b[39;00m result \u001b[39m==\u001b[39m \u001b[39m-\u001b[39m\u001b[39m1\u001b[39m:\n\u001b[0;32m    753\u001b[0m         warnings\u001b[39m.\u001b[39mwarn(\n\u001b[0;32m    754\u001b[0m             \u001b[39mf\u001b[39m\u001b[39m\"\u001b[39m\u001b[39mThe behavior of \u001b[39m\u001b[39m{\u001b[39;00m\u001b[39mtype\u001b[39m(\u001b[39mself\u001b[39m)\u001b[39m.\u001b[39m\u001b[39m__name__\u001b[39m\u001b[39m}\u001b[39;00m\u001b[39m.argmax/argmin \u001b[39m\u001b[39m\"\u001b[39m\n\u001b[0;32m    755\u001b[0m             \u001b[39m\"\u001b[39m\u001b[39mwith skipna=False and NAs, or with all-NAs is deprecated. \u001b[39m\u001b[39m\"\u001b[39m\n\u001b[1;32m   (...)\u001b[0m\n\u001b[0;32m    758\u001b[0m             stacklevel\u001b[39m=\u001b[39mfind_stack_level(),\n\u001b[0;32m    759\u001b[0m         )\n",
      "File \u001b[1;32mc:\\Users\\DELL\\anaconda3\\envs\\agent00\\lib\\site-packages\\pandas\\core\\nanops.py:1143\u001b[0m, in \u001b[0;36mnanargmax\u001b[1;34m(values, axis, skipna, mask)\u001b[0m\n\u001b[0;32m   1141\u001b[0m values, mask \u001b[39m=\u001b[39m _get_values(values, \u001b[39mTrue\u001b[39;00m, fill_value_typ\u001b[39m=\u001b[39m\u001b[39m\"\u001b[39m\u001b[39m-inf\u001b[39m\u001b[39m\"\u001b[39m, mask\u001b[39m=\u001b[39mmask)\n\u001b[0;32m   1142\u001b[0m \u001b[39m# error: Need type annotation for 'result'\u001b[39;00m\n\u001b[1;32m-> 1143\u001b[0m result \u001b[39m=\u001b[39m values\u001b[39m.\u001b[39;49margmax(axis)  \u001b[39m# type: ignore[var-annotated]\u001b[39;00m\n\u001b[0;32m   1144\u001b[0m result \u001b[39m=\u001b[39m _maybe_arg_null_out(result, axis, mask, skipna)\n\u001b[0;32m   1145\u001b[0m \u001b[39mreturn\u001b[39;00m result\n",
      "\u001b[1;31mValueError\u001b[0m: attempt to get argmax of an empty sequence"
     ]
    }
   ],
   "source": [
    "ty=evaluate(y,'daily')"
   ]
  }
 ],
 "metadata": {
  "kernelspec": {
   "display_name": "agent00",
   "language": "python",
   "name": "python3"
  },
  "language_info": {
   "codemirror_mode": {
    "name": "ipython",
    "version": 3
   },
   "file_extension": ".py",
   "mimetype": "text/x-python",
   "name": "python",
   "nbconvert_exporter": "python",
   "pygments_lexer": "ipython3",
   "version": "3.10.13"
  }
 },
 "nbformat": 4,
 "nbformat_minor": 2
}
