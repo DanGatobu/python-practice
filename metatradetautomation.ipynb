{
 "cells": [
  {
   "cell_type": "code",
   "execution_count": 1,
   "metadata": {},
   "outputs": [],
   "source": [
    "import numpy as np\n",
    "import pandas as pd\n",
    "import MetaTrader5 as mt5\n"
   ]
  },
  {
   "cell_type": "code",
   "execution_count": 15,
   "metadata": {},
   "outputs": [],
   "source": [
    "import datetime\n"
   ]
  },
  {
   "cell_type": "code",
   "execution_count": null,
   "metadata": {},
   "outputs": [],
   "source": []
  },
  {
   "cell_type": "code",
   "execution_count": 26,
   "metadata": {},
   "outputs": [],
   "source": [
    "\n",
    "def fget_data(currency,num_c):\n",
    "    mt5.initialize()\n",
    "    ohlc_data = pd.DataFrame(mt5.copy_rates_from_pos(currency, mt5.TIMEFRAME_M15, 0,num_c))\n",
    "    ohlc_data.rename(columns={'open': 'Open', 'high': 'High', 'low': 'Low', 'close': 'Close'}, inplace=True)\n",
    "    ohlc_data.dropna(inplace=True)\n",
    "\n",
    "    return ohlc_data\n",
    "\n",
    "\n",
    "\n"
   ]
  },
  {
   "cell_type": "code",
   "execution_count": 27,
   "metadata": {},
   "outputs": [
    {
     "name": "stdout",
     "output_type": "stream",
     "text": [
      "time                    1703684700\n",
      "Open                       2067.18\n",
      "High                       2068.73\n",
      "Low                        2067.15\n",
      "Close                      2068.07\n",
      "tick_volume                    706\n",
      "spread                          27\n",
      "real_volume                      0\n",
      "mtime          2023-12-27 13:45:00\n",
      "Name: 108, dtype: object\n"
     ]
    }
   ],
   "source": [
    "nowd=fget_data('GOLD',110)\n",
    "nowd['mtime']=pd.to_datetime(nowd['time'],unit='s')\n",
    "last_row = nowd.iloc[-2]\n",
    "print(last_row)"
   ]
  },
  {
   "cell_type": "code",
   "execution_count": 23,
   "metadata": {},
   "outputs": [],
   "source": [
    "def fget_data2(currency):\n",
    "    mt5.initialize()\n",
    "    ohlc_data = pd.DataFrame(mt5.copy_rates_range(currency, mt5.TIMEFRAME_M15, datetime.datetime(2023, 1, 1), datetime.datetime.now()))\n",
    "    ohlc_data.rename(columns={'open': 'Open', 'high': 'High', 'low': 'Low', 'close': 'Close'}, inplace=True)\n",
    "    ohlc_data.dropna(inplace=True)\n",
    "\n",
    "    return ohlc_data\n",
    "\n",
    "usingdt3=fget_data2('GOLD')"
   ]
  },
  {
   "cell_type": "code",
   "execution_count": null,
   "metadata": {},
   "outputs": [],
   "source": []
  },
  {
   "cell_type": "code",
   "execution_count": 29,
   "metadata": {},
   "outputs": [],
   "source": [
    "\n",
    "def distance_checker(price,value,lim):\n",
    "    plh=price-value\n",
    "    plh=abs(plh)\n",
    "    if plh >lim:\n",
    "        return 1\n",
    "    else:\n",
    "        return 0\n",
    "    \n",
    "def find_status(data,size):\n",
    "    data['AbsDiff'] = abs(data['Close'] - data['Open'])\n",
    "\n",
    "# Find the maximum value among the calculated differences\n",
    "    max_diff = data['AbsDiff'].max()\n",
    "    if max_diff>size:\n",
    "        return 1\n",
    "    else:\n",
    "        return 0\n",
    "    "
   ]
  },
  {
   "cell_type": "code",
   "execution_count": 46,
   "metadata": {},
   "outputs": [],
   "source": [
    "from schedule import every, repeat, run_pending"
   ]
  },
  {
   "cell_type": "code",
   "execution_count": 50,
   "metadata": {},
   "outputs": [],
   "source": [
    "# print(last_row['mtime'].time())\n",
    "\n",
    "\n",
    "def daily_start():\n",
    "    nowd=fget_data('GOLD',110)\n",
    "    nowd['mtime']=pd.to_datetime(nowd['time'],unit='s')\n",
    "    last_row = nowd.iloc[-2]\n",
    "    print('yes')\n",
    "    pg=last_row['mtime'].time()\n",
    "    if not datetime.time(0, 0) <= pg <= datetime.time(3, 0):\n",
    "        pos_info = mt5.positions_total()\n",
    "\n",
    "        # Check if there are open positions or active orders\n",
    "        if pos_info==0:\n",
    "            target_date = last_row['mtime'].date()\n",
    "\n",
    "        # Filter the DataFrame for the specific day\n",
    "            day_data = nowd[nowd['mtime'].dt.date == target_date]\n",
    "\n",
    "        # Find the maximum and minimum points for the day\n",
    "            max_price = day_data['High'].max()\n",
    "            min_price = day_data['Low'].min()\n",
    "            price=last_row['Close']\n",
    "            # print(price)\n",
    "            if price>max_price:\n",
    "                if distance_checker(price,max_price,1.5)==0:\n",
    "                    max_price=price\n",
    "                elif distance_checker(price,max_price,1.5)==1:\n",
    "                    win_data=nowd.tail(11)\n",
    "                    if find_status(win_data,1.5):\n",
    "                        lowp=last_row['Low']\n",
    "                        sl=lowp-1.5\n",
    "                        expectedloss=price-sl\n",
    "                        target_tp=expectedloss*5\n",
    "                        tp=price+target_tp\n",
    "                        lot=0.1\n",
    "                        deviation=0.3\n",
    "                        request = {\"action\": mt5.TRADE_ACTION_DEAL,\"symbol\": 'GOLD',\"volume\": lot,\"type\": mt5.ORDER_TYPE_BUY,\"price\": price,\"sl\": sl,\"tp\": tp,\"deviation\": deviation,\"magic\": 2002,\"comment\": \"python script open\",\"type_time\": mt5.ORDER_TIME_GTC,\"type_filling\": mt5.ORDER_FILLING_RETURN,}\n",
    "                        mt5.order_send(request)\n",
    "                        \n",
    "            elif price<min_price:\n",
    "                if distance_checker(price,min_price,1.5)==0:\n",
    "                    min_price=price\n",
    "                elif distance_checker(price,min_price,1.5)==1:\n",
    "                    win_data=nowd.tail(11)\n",
    "                    if find_status(win_data,1.5):\n",
    "                        highp=last_row['High']\n",
    "                        sl=highp+1.5\n",
    "                        expectedloss=sl-price\n",
    "                        target_tp=expectedloss*5\n",
    "                        tp=price-target_tp\n",
    "                        lot=0.1\n",
    "                        deviation=0.3\n",
    "                        request = {\"action\": mt5.TRADE_ACTION_DEAL,\"symbol\": 'GOLD',\"volume\": lot,\"type\": mt5.ORDER_TYPE_SELL,\"price\": price,\"sl\": sl,\"tp\": tp,\"deviation\": deviation,\"magic\": 2002,\"comment\": \"python script open\",\"type_time\": mt5.ORDER_TIME_GTC,\"type_filling\": mt5.ORDER_FILLING_RETURN,}\n",
    "                        mt5.order_send(request)\n",
    "                        \n",
    "                    \n",
    "            \n",
    "        \n",
    "\n",
    "      "
   ]
  },
  {
   "cell_type": "code",
   "execution_count": 40,
   "metadata": {},
   "outputs": [],
   "source": [
    "import time as tt"
   ]
  },
  {
   "cell_type": "code",
   "execution_count": 38,
   "metadata": {},
   "outputs": [],
   "source": [
    "import schedule\n"
   ]
  },
  {
   "cell_type": "code",
   "execution_count": 51,
   "metadata": {},
   "outputs": [
    {
     "name": "stdout",
     "output_type": "stream",
     "text": [
      "yes\n"
     ]
    }
   ],
   "source": [
    "daily_start()"
   ]
  },
  {
   "cell_type": "code",
   "execution_count": 49,
   "metadata": {},
   "outputs": [],
   "source": [
    "run_pending()"
   ]
  },
  {
   "cell_type": "code",
   "execution_count": 67,
   "metadata": {},
   "outputs": [
    {
     "name": "stdout",
     "output_type": "stream",
     "text": [
      "2088.31\n",
      "2071.18\n"
     ]
    }
   ],
   "source": [
    "maxholder=0\n",
    "minholder=0\n",
    "def get_first_values():\n",
    "    global maxholder\n",
    "    global minholder\n",
    "    nowd=fget_data('GOLD',110)\n",
    "    nowd['mtime']=pd.to_datetime(nowd['time'],unit='s')\n",
    "    last_row = nowd.iloc[-2]\n",
    "    target_date = last_row['mtime'].date()\n",
    "\n",
    "    # Filter the DataFrame for the specific day\n",
    "    day_data = nowd[nowd['mtime'].dt.date == target_date]\n",
    "\n",
    "    # Find the maximum and minimum points for the day\n",
    "    max_price = day_data['High'].max()\n",
    "    min_price = day_data['Low'].min()\n",
    "    maxholder = max_price\n",
    "    minholder = min_price\n",
    "    \n",
    "get_first_values()\n",
    "print(maxholder)\n",
    "print(minholder)"
   ]
  },
  {
   "cell_type": "code",
   "execution_count": 66,
   "metadata": {},
   "outputs": [
    {
     "data": {
      "text/plain": [
       "OrderSendResult(retcode=10009, deal=324714225, order=327667653, volume=0.1, price=2073.91, bid=2073.53, ask=2073.91, comment='Request executed', request_id=3094555137, retcode_external=0, request=TradeRequest(action=1, magic=2002, order=0, symbol='GOLD', volume=0.1, price=2073.62, stoplimit=0.0, sl=2059.5, tp=2144.2199999999993, deviation=1, type=0, type_filling=1, type_time=0, expiration=0, comment='python script open', position=0, position_by=0))"
      ]
     },
     "execution_count": 66,
     "metadata": {},
     "output_type": "execute_result"
    }
   ],
   "source": [
    "nowd=fget_data('GOLD',110)\n",
    "nowd['mtime']=pd.to_datetime(nowd['time'],unit='s')\n",
    "last_row = nowd.iloc[-2]\n",
    "price=last_row['Close']\n",
    "lowp=2071\n",
    "sl=lowp-11.50\n",
    "expectedloss=price-sl\n",
    "target_tp=expectedloss*5\n",
    "tp=price+target_tp\n",
    "lot=0.1\n",
    "deviation=1\n",
    "request = {\"action\": mt5.TRADE_ACTION_DEAL,\"symbol\": 'GOLD',\"volume\": lot,\"type\": mt5.ORDER_TYPE_BUY,\"price\": price,\"sl\": sl,\"tp\": tp,\"deviation\": deviation,\"magic\": 2002,\"comment\": \"python script open\",\"type_time\": mt5.ORDER_TIME_GTC,\"type_filling\": mt5.ORDER_FILLING_IOC,}\n",
    "mt5.order_send(request)"
   ]
  },
  {
   "cell_type": "code",
   "execution_count": 56,
   "metadata": {},
   "outputs": [],
   "source": [
    "schedule.every(15).minutes.do(daily_start)\n",
    "\n",
    "# Run the script indefinitely\n",
    "while True:\n",
    "    schedule.run_pending()\n",
    "    tt.sleep(1)"
   ]
  }
 ],
 "metadata": {
  "kernelspec": {
   "display_name": "agent00",
   "language": "python",
   "name": "python3"
  },
  "language_info": {
   "codemirror_mode": {
    "name": "ipython",
    "version": 3
   },
   "file_extension": ".py",
   "mimetype": "text/x-python",
   "name": "python",
   "nbconvert_exporter": "python",
   "pygments_lexer": "ipython3",
   "version": "3.10.13"
  }
 },
 "nbformat": 4,
 "nbformat_minor": 2
}
