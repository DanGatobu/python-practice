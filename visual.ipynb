{
 "cells": [
  {
   "cell_type": "code",
   "execution_count": null,
   "metadata": {},
   "outputs": [],
   "source": [
    "import plotly.graph_objects as go"
   ]
  },
  {
   "cell_type": "code",
   "execution_count": null,
   "metadata": {},
   "outputs": [],
   "source": [
    "from functions import get_data "
   ]
  },
  {
   "cell_type": "code",
   "execution_count": null,
   "metadata": {},
   "outputs": [],
   "source": [
    "using_data=get_data('GOLD')\n",
    "\n",
    "\n"
   ]
  },
  {
   "cell_type": "code",
   "execution_count": null,
   "metadata": {},
   "outputs": [],
   "source": [
    "import pandas as pd\n",
    "import plotly.express as px\n",
    "import plotly.graph_objects as go\n",
    "import datetime\n"
   ]
  },
  {
   "cell_type": "code",
   "execution_count": null,
   "metadata": {},
   "outputs": [],
   "source": [
    "copy1=using_data\n",
    "copy1['time'] = pd.to_datetime(copy1['time'], unit='s')\n"
   ]
  },
  {
   "cell_type": "markdown",
   "metadata": {},
   "source": [
    "## CANDLESTICK PLOTTING"
   ]
  },
  {
   "cell_type": "code",
   "execution_count": null,
   "metadata": {},
   "outputs": [],
   "source": [
    "start_index = 120\n",
    "end_index = 145\n",
    "selected_df = copy1.iloc[start_index:end_index+1]\n",
    "\n",
    "# Create a candlestick trace\n",
    "candlestick_trace = go.Candlestick(x=selected_df.time,\n",
    "                                   open=selected_df['Open'],\n",
    "                                   high=selected_df['High'],\n",
    "                                   low=selected_df['Low'],\n",
    "                                   close=selected_df['Close'],\n",
    "                                   name='Candlestick')\n",
    "\n",
    "# Create a layout for the plot\n",
    "layout = go.Layout(title='Candlestick Plot for Index Range 50 to 200',\n",
    "                   xaxis=dict(title='Index'),\n",
    "                   yaxis=dict(title='Price'))\n",
    "\n",
    "# Create the figure\n",
    "fig = go.Figure(data=[candlestick_trace], layout=layout)\n",
    "\n",
    "# Show the plot\n",
    "fig.show()\n"
   ]
  },
  {
   "cell_type": "markdown",
   "metadata": {},
   "source": [
    "## THIS IS A HISTOGRAM"
   ]
  },
  {
   "cell_type": "code",
   "execution_count": null,
   "metadata": {},
   "outputs": [],
   "source": [
    "bins = [0, 5,10,15,20,24 ,28,32,36]  # Define custom bin edges\n",
    "\n",
    "fig = px.histogram(copy1, x='ratio', nbins=50, range_x=[0, 36], title='Distribution of Ratios', histnorm='percent', labels={'ratio': 'Ratio'})\n",
    "\n",
    "# Update x-axis tickvals and ticktext for better representation\n",
    "fig.update_layout(\n",
    "    xaxis=dict(\n",
    "        tickvals=[0, 5,10,15,20,24 ,28,32,36],\n",
    "        ticktext=['0-5', '5-10', '10-15', '15-20', '20-24', '24-28','28-32','32-36']\n",
    "    )\n",
    ")\n",
    "\n",
    "# Show the plot\n",
    "fig.show()"
   ]
  }
 ],
 "metadata": {
  "kernelspec": {
   "display_name": "agent00",
   "language": "python",
   "name": "python3"
  },
  "language_info": {
   "name": "python",
   "version": "3.10.13"
  }
 },
 "nbformat": 4,
 "nbformat_minor": 2
}
