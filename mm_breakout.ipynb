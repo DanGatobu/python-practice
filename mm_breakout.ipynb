{
 "cells": [
  {
   "cell_type": "code",
   "execution_count": 1,
   "metadata": {},
   "outputs": [],
   "source": [
    "from functions import get_data , calculate_sma\n",
    "\n"
   ]
  },
  {
   "cell_type": "code",
   "execution_count": 2,
   "metadata": {},
   "outputs": [],
   "source": [
    "using_data=get_data('GOLD')\n",
    "\n",
    "\n"
   ]
  },
  {
   "cell_type": "code",
   "execution_count": 3,
   "metadata": {},
   "outputs": [],
   "source": [
    "import pandas as pd"
   ]
  },
  {
   "cell_type": "code",
   "execution_count": 4,
   "metadata": {},
   "outputs": [],
   "source": [
    "def body_size(openp,close):\n",
    "    bs=abs(close-openp)\n",
    "    return bs"
   ]
  },
  {
   "cell_type": "code",
   "execution_count": 5,
   "metadata": {},
   "outputs": [],
   "source": [
    "def calc_vs(openp,close,low,high):\n",
    "    candle_spread=high-low\n",
    "    body_size=abs(close-openp)\n",
    "    ratio=candle_spread/body_size\n",
    "    return ratio\n",
    "    "
   ]
  },
  {
   "cell_type": "code",
   "execution_count": 6,
   "metadata": {},
   "outputs": [],
   "source": [
    "copy1=using_data"
   ]
  },
  {
   "cell_type": "code",
   "execution_count": 7,
   "metadata": {},
   "outputs": [
    {
     "name": "stdout",
     "output_type": "stream",
     "text": [
      "Indices where body size is 0: Index([    36,    140,    170,    437,    527,    761,    915,   1042,   1068,\n",
      "         1266,\n",
      "       ...\n",
      "       208580, 209122, 209169, 209398, 209489, 209723, 209889, 210017, 210065,\n",
      "       210272],\n",
      "      dtype='int64', length=1544)\n",
      "number of values with zero are: 1544\n"
     ]
    }
   ],
   "source": [
    "copy1['body_size'] = body_size(copy1['Open'], copy1['Close'])\n",
    "\n",
    "# Find the indices where body size is 0\n",
    "zero_body_size_indices = copy1[copy1['body_size'] == 0].index\n",
    "\n",
    "# Print the indices\n",
    "print(\"Indices where body size is 0:\", zero_body_size_indices)\n",
    "print('number of values with zero are:',len(zero_body_size_indices))"
   ]
  },
  {
   "cell_type": "code",
   "execution_count": 8,
   "metadata": {},
   "outputs": [
    {
     "name": "stdout",
     "output_type": "stream",
     "text": [
      "the dataset is this long:  210273\n",
      "the chnces of you gettibg a trade using zero volume are : 0.0073428352665344575\n"
     ]
    }
   ],
   "source": [
    "print('the dataset is this long: ',len(copy1))\n",
    "g=(len(zero_body_size_indices))/(len(copy1))\n",
    "print('the chnces of you gettibg a trade using zero volume are :',g)"
   ]
  },
  {
   "cell_type": "code",
   "execution_count": 9,
   "metadata": {},
   "outputs": [],
   "source": [
    "import datetime"
   ]
  },
  {
   "cell_type": "code",
   "execution_count": 10,
   "metadata": {},
   "outputs": [],
   "source": [
    "# copy1['time'] = pd.to_datetime(copy1['time'], unit='s')\n"
   ]
  },
  {
   "cell_type": "code",
   "execution_count": 11,
   "metadata": {},
   "outputs": [],
   "source": [
    "copy1['ratio'] = calc_vs(copy1['Open'], copy1['Close'], copy1['Low'], copy1['High'])\n",
    "\n",
    "# Create a histogram using Plotly\n"
   ]
  },
  {
   "cell_type": "code",
   "execution_count": 12,
   "metadata": {},
   "outputs": [],
   "source": [
    "def find_candle_direction(open,close):\n",
    "    if open>close:\n",
    "        return 'red'\n",
    "    else:\n",
    "        return 'green'"
   ]
  },
  {
   "cell_type": "code",
   "execution_count": 13,
   "metadata": {},
   "outputs": [],
   "source": [
    "from functions import calc_prof"
   ]
  },
  {
   "cell_type": "code",
   "execution_count": 14,
   "metadata": {},
   "outputs": [],
   "source": [
    "def breakout(data,multiplier,sl_adjust):\n",
    "    istrade=None\n",
    "    entry_price=0\n",
    "    p_sl=0\n",
    "    condition1=0\n",
    "    p_tp=0\n",
    "    sl=0\n",
    "    opendate=0\n",
    "    closedate=0\n",
    "    trade_type=''\n",
    "    trades=[]\n",
    "    tp=0\n",
    "    for i in range(len(data)):\n",
    "        if data['body_size'][i]==0:\n",
    "            condition1=1\n",
    "            p_sl=data['Low'][i]\n",
    "            p_tp=data['High'][i]\n",
    "            \n",
    "        if condition1==1 and istrade==None:\n",
    "            openp=data['Open'][i]\n",
    "            close=data['Close'][i]\n",
    "            candle_type=find_candle_direction(openp,close)\n",
    "            if candle_type=='red':\n",
    "                entry_price=close\n",
    "                istrade=True\n",
    "                trade_type='Sell'\n",
    "                sl=p_tp+sl_adjust\n",
    "                predicted_sl=sl-entry_price\n",
    "                sup_tp=predicted_sl*multiplier\n",
    "                tp=entry_price-sup_tp\n",
    "                condition1=0\n",
    "            else:\n",
    "                entry_price=close\n",
    "                istrade=True\n",
    "                trade_type='Buy'\n",
    "                opendate=data['time'][i]\n",
    "                sl=p_sl-sl_adjust\n",
    "                predicted_sl=entry_price-sl\n",
    "                sup_tp=predicted_sl*multiplier\n",
    "                tp=entry_price+sup_tp\n",
    "                condition1=0\n",
    "        if istrade==True:\n",
    "            if trade_type=='Buy':\n",
    "                if data['Close'][i]>tp:\n",
    "                    exit=data['Close'][i]\n",
    "                    profit=calc_prof(entry_price,exit)\n",
    "                    closedate=data['time'][i]\n",
    "                    trades.append(('Buy', opendate, closedate, profit))\n",
    "                    istrade=None\n",
    "                elif data['Close'][i]<sl:\n",
    "                    exit=data['Close'][i]\n",
    "                    profit=calc_prof(entry_price,exit)\n",
    "                    closedate=data['time'][i]\n",
    "                    trades.append(('Buy', opendate, closedate, profit))\n",
    "                    istrade=None\n",
    "            else:\n",
    "                if data['Close'][i]<tp:\n",
    "                    exit=data['Close'][i]\n",
    "                    profit=calc_prof(entry_price,exit)\n",
    "                    closedate=data['time'][i]\n",
    "                    trades.append(('Sell', opendate, closedate, profit))\n",
    "                    istrade=None\n",
    "                elif data['Close'][i]>sl:\n",
    "                    exit=data['Close'][i]\n",
    "                    profit=calc_prof(entry_price,exit)\n",
    "                    closedate=data['time'][i]\n",
    "                    trades.append(('Sell', opendate, closedate, profit))\n",
    "                    istrade=None\n",
    "    return trades            \n",
    "                \n",
    "                \n",
    "                "
   ]
  },
  {
   "cell_type": "code",
   "execution_count": 15,
   "metadata": {},
   "outputs": [],
   "source": [
    "from functions import evaluate"
   ]
  },
  {
   "cell_type": "code",
   "execution_count": 16,
   "metadata": {},
   "outputs": [],
   "source": [
    "test_sl_values = [2.0, 3.0, 4.0, 5.0, 6.0, 7.0, 8.0, 9.0, 10.0, 11.0, 12.0]\n",
    "multiplier_values = [2, 3, 4, 5, 6, 7, 8, 9, 10]\n",
    "evaluated_results = []\n",
    "\n",
    "# Loop through parameter combinations\n",
    "for sl_value in test_sl_values:\n",
    "    for multiplier_value in multiplier_values:\n",
    "        o_volume_breakout = breakout(copy1, multiplier_value, sl_value)\n",
    "        evaluation_name = f'zero volume breakout SL added of {sl_value} and multiplier of {multiplier_value}'\n",
    "        \n",
    "        # Assuming evaluate returns a list with the details\n",
    "        evaluated_info = evaluate(o_volume_breakout, evaluation_name)\n",
    "        \n",
    "        # Create a dictionary with the information and parameters\n",
    "        result_dict = {\n",
    "            'Strategy': 'Zero Volume Breakout',\n",
    "            'SL_Value': sl_value,\n",
    "            'Multiplier_Value': multiplier_value,\n",
    "            'Total_Profit': evaluated_info[0],\n",
    "            'Num_Buy_Trades': evaluated_info[1],\n",
    "            'Total_Buy_Profit': evaluated_info[2],\n",
    "            'Num_Sell_Trades': evaluated_info[3],\n",
    "            'Total_Sell_Profit': evaluated_info[4],\n",
    "            'Max_Profit_Index': evaluated_info[5],\n",
    "            'Index_of_Max_Profit': evaluated_info[6],\n",
    "            'Max_Duration': evaluated_info[7],\n",
    "            'ID_Max_Duration': evaluated_info[8],\n",
    "            'total_profitable_trades':evaluated_info[9],\n",
    "            'total_unprofitable_trades':evaluated_info[10],\n",
    "            'total_profitable_trades':evaluated_info[11],\n",
    "            'total_loss_trades':evaluated_info[12]\n",
    "        }\n",
    "        \n",
    "        # Append the dictionary to the list\n",
    "        evaluated_results.append(result_dict)\n"
   ]
  },
  {
   "cell_type": "code",
   "execution_count": null,
   "metadata": {},
   "outputs": [],
   "source": [
    "o_strat_results = pd.DataFrame(evaluated_results)\n",
    "o_strat_results.to_csv('o_strat_results.csv', index=False)\n"
   ]
  },
  {
   "cell_type": "code",
   "execution_count": null,
   "metadata": {},
   "outputs": [],
   "source": []
  }
 ],
 "metadata": {
  "kernelspec": {
   "display_name": "agent00",
   "language": "python",
   "name": "python3"
  },
  "language_info": {
   "codemirror_mode": {
    "name": "ipython",
    "version": 3
   },
   "file_extension": ".py",
   "mimetype": "text/x-python",
   "name": "python",
   "nbconvert_exporter": "python",
   "pygments_lexer": "ipython3",
   "version": "3.10.13"
  }
 },
 "nbformat": 4,
 "nbformat_minor": 2
}
