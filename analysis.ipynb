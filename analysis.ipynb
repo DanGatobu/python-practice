{
 "cells": [
  {
   "cell_type": "code",
   "execution_count": 1,
   "metadata": {},
   "outputs": [],
   "source": [
    "import pandas as pd \n",
    "import numpy as np \n"
   ]
  },
  {
   "cell_type": "code",
   "execution_count": 2,
   "metadata": {},
   "outputs": [
    {
     "data": {
      "text/html": [
       "<div>\n",
       "<style scoped>\n",
       "    .dataframe tbody tr th:only-of-type {\n",
       "        vertical-align: middle;\n",
       "    }\n",
       "\n",
       "    .dataframe tbody tr th {\n",
       "        vertical-align: top;\n",
       "    }\n",
       "\n",
       "    .dataframe thead th {\n",
       "        text-align: right;\n",
       "    }\n",
       "</style>\n",
       "<table border=\"1\" class=\"dataframe\">\n",
       "  <thead>\n",
       "    <tr style=\"text-align: right;\">\n",
       "      <th></th>\n",
       "      <th>TradeType</th>\n",
       "      <th>OpenDate</th>\n",
       "      <th>CloseDate</th>\n",
       "      <th>Profit</th>\n",
       "    </tr>\n",
       "  </thead>\n",
       "  <tbody>\n",
       "    <tr>\n",
       "      <th>0</th>\n",
       "      <td>Sell</td>\n",
       "      <td>1672720200</td>\n",
       "      <td>1672721100</td>\n",
       "      <td>-0.29</td>\n",
       "    </tr>\n",
       "    <tr>\n",
       "      <th>1</th>\n",
       "      <td>Sell</td>\n",
       "      <td>1672722000</td>\n",
       "      <td>1672722900</td>\n",
       "      <td>-0.69</td>\n",
       "    </tr>\n",
       "    <tr>\n",
       "      <th>2</th>\n",
       "      <td>Sell</td>\n",
       "      <td>1672723800</td>\n",
       "      <td>1672724700</td>\n",
       "      <td>-0.13</td>\n",
       "    </tr>\n",
       "    <tr>\n",
       "      <th>3</th>\n",
       "      <td>Sell</td>\n",
       "      <td>1672725600</td>\n",
       "      <td>1672726500</td>\n",
       "      <td>0.65</td>\n",
       "    </tr>\n",
       "    <tr>\n",
       "      <th>4</th>\n",
       "      <td>Sell</td>\n",
       "      <td>1672727400</td>\n",
       "      <td>1672728300</td>\n",
       "      <td>1.43</td>\n",
       "    </tr>\n",
       "    <tr>\n",
       "      <th>...</th>\n",
       "      <td>...</td>\n",
       "      <td>...</td>\n",
       "      <td>...</td>\n",
       "      <td>...</td>\n",
       "    </tr>\n",
       "    <tr>\n",
       "      <th>4479</th>\n",
       "      <td>Sell</td>\n",
       "      <td>1703626200</td>\n",
       "      <td>1703627100</td>\n",
       "      <td>-0.76</td>\n",
       "    </tr>\n",
       "    <tr>\n",
       "      <th>4480</th>\n",
       "      <td>Sell</td>\n",
       "      <td>1703628000</td>\n",
       "      <td>1703628900</td>\n",
       "      <td>-0.18</td>\n",
       "    </tr>\n",
       "    <tr>\n",
       "      <th>4481</th>\n",
       "      <td>Sell</td>\n",
       "      <td>1703629800</td>\n",
       "      <td>1703630700</td>\n",
       "      <td>-1.64</td>\n",
       "    </tr>\n",
       "    <tr>\n",
       "      <th>4482</th>\n",
       "      <td>Sell</td>\n",
       "      <td>1703631600</td>\n",
       "      <td>1703632500</td>\n",
       "      <td>0.03</td>\n",
       "    </tr>\n",
       "    <tr>\n",
       "      <th>4483</th>\n",
       "      <td>Sell</td>\n",
       "      <td>1703633400</td>\n",
       "      <td>1703634300</td>\n",
       "      <td>-1.41</td>\n",
       "    </tr>\n",
       "  </tbody>\n",
       "</table>\n",
       "<p>4484 rows × 4 columns</p>\n",
       "</div>"
      ],
      "text/plain": [
       "     TradeType    OpenDate   CloseDate  Profit\n",
       "0         Sell  1672720200  1672721100   -0.29\n",
       "1         Sell  1672722000  1672722900   -0.69\n",
       "2         Sell  1672723800  1672724700   -0.13\n",
       "3         Sell  1672725600  1672726500    0.65\n",
       "4         Sell  1672727400  1672728300    1.43\n",
       "...        ...         ...         ...     ...\n",
       "4479      Sell  1703626200  1703627100   -0.76\n",
       "4480      Sell  1703628000  1703628900   -0.18\n",
       "4481      Sell  1703629800  1703630700   -1.64\n",
       "4482      Sell  1703631600  1703632500    0.03\n",
       "4483      Sell  1703633400  1703634300   -1.41\n",
       "\n",
       "[4484 rows x 4 columns]"
      ]
     },
     "execution_count": 2,
     "metadata": {},
     "output_type": "execute_result"
    }
   ],
   "source": [
    "data_anl=pd.read_csv('Dailystrat.csv')\n",
    "data_anl"
   ]
  },
  {
   "cell_type": "code",
   "execution_count": 3,
   "metadata": {},
   "outputs": [
    {
     "data": {
      "text/html": [
       "<div>\n",
       "<style scoped>\n",
       "    .dataframe tbody tr th:only-of-type {\n",
       "        vertical-align: middle;\n",
       "    }\n",
       "\n",
       "    .dataframe tbody tr th {\n",
       "        vertical-align: top;\n",
       "    }\n",
       "\n",
       "    .dataframe thead th {\n",
       "        text-align: right;\n",
       "    }\n",
       "</style>\n",
       "<table border=\"1\" class=\"dataframe\">\n",
       "  <thead>\n",
       "    <tr style=\"text-align: right;\">\n",
       "      <th></th>\n",
       "      <th>TradeType</th>\n",
       "      <th>OpenDate</th>\n",
       "      <th>CloseDate</th>\n",
       "      <th>Profit</th>\n",
       "      <th>m_open</th>\n",
       "      <th>m_close</th>\n",
       "    </tr>\n",
       "  </thead>\n",
       "  <tbody>\n",
       "    <tr>\n",
       "      <th>0</th>\n",
       "      <td>Sell</td>\n",
       "      <td>1672720200</td>\n",
       "      <td>1672721100</td>\n",
       "      <td>-0.29</td>\n",
       "      <td>2023-01-03 04:30:00</td>\n",
       "      <td>2023-01-03 04:45:00</td>\n",
       "    </tr>\n",
       "    <tr>\n",
       "      <th>1</th>\n",
       "      <td>Sell</td>\n",
       "      <td>1672722000</td>\n",
       "      <td>1672722900</td>\n",
       "      <td>-0.69</td>\n",
       "      <td>2023-01-03 05:00:00</td>\n",
       "      <td>2023-01-03 05:15:00</td>\n",
       "    </tr>\n",
       "    <tr>\n",
       "      <th>2</th>\n",
       "      <td>Sell</td>\n",
       "      <td>1672723800</td>\n",
       "      <td>1672724700</td>\n",
       "      <td>-0.13</td>\n",
       "      <td>2023-01-03 05:30:00</td>\n",
       "      <td>2023-01-03 05:45:00</td>\n",
       "    </tr>\n",
       "    <tr>\n",
       "      <th>3</th>\n",
       "      <td>Sell</td>\n",
       "      <td>1672725600</td>\n",
       "      <td>1672726500</td>\n",
       "      <td>0.65</td>\n",
       "      <td>2023-01-03 06:00:00</td>\n",
       "      <td>2023-01-03 06:15:00</td>\n",
       "    </tr>\n",
       "    <tr>\n",
       "      <th>4</th>\n",
       "      <td>Sell</td>\n",
       "      <td>1672727400</td>\n",
       "      <td>1672728300</td>\n",
       "      <td>1.43</td>\n",
       "      <td>2023-01-03 06:30:00</td>\n",
       "      <td>2023-01-03 06:45:00</td>\n",
       "    </tr>\n",
       "    <tr>\n",
       "      <th>...</th>\n",
       "      <td>...</td>\n",
       "      <td>...</td>\n",
       "      <td>...</td>\n",
       "      <td>...</td>\n",
       "      <td>...</td>\n",
       "      <td>...</td>\n",
       "    </tr>\n",
       "    <tr>\n",
       "      <th>4479</th>\n",
       "      <td>Sell</td>\n",
       "      <td>1703626200</td>\n",
       "      <td>1703627100</td>\n",
       "      <td>-0.76</td>\n",
       "      <td>2023-12-26 21:30:00</td>\n",
       "      <td>2023-12-26 21:45:00</td>\n",
       "    </tr>\n",
       "    <tr>\n",
       "      <th>4480</th>\n",
       "      <td>Sell</td>\n",
       "      <td>1703628000</td>\n",
       "      <td>1703628900</td>\n",
       "      <td>-0.18</td>\n",
       "      <td>2023-12-26 22:00:00</td>\n",
       "      <td>2023-12-26 22:15:00</td>\n",
       "    </tr>\n",
       "    <tr>\n",
       "      <th>4481</th>\n",
       "      <td>Sell</td>\n",
       "      <td>1703629800</td>\n",
       "      <td>1703630700</td>\n",
       "      <td>-1.64</td>\n",
       "      <td>2023-12-26 22:30:00</td>\n",
       "      <td>2023-12-26 22:45:00</td>\n",
       "    </tr>\n",
       "    <tr>\n",
       "      <th>4482</th>\n",
       "      <td>Sell</td>\n",
       "      <td>1703631600</td>\n",
       "      <td>1703632500</td>\n",
       "      <td>0.03</td>\n",
       "      <td>2023-12-26 23:00:00</td>\n",
       "      <td>2023-12-26 23:15:00</td>\n",
       "    </tr>\n",
       "    <tr>\n",
       "      <th>4483</th>\n",
       "      <td>Sell</td>\n",
       "      <td>1703633400</td>\n",
       "      <td>1703634300</td>\n",
       "      <td>-1.41</td>\n",
       "      <td>2023-12-26 23:30:00</td>\n",
       "      <td>2023-12-26 23:45:00</td>\n",
       "    </tr>\n",
       "  </tbody>\n",
       "</table>\n",
       "<p>4484 rows × 6 columns</p>\n",
       "</div>"
      ],
      "text/plain": [
       "     TradeType    OpenDate   CloseDate  Profit              m_open  \\\n",
       "0         Sell  1672720200  1672721100   -0.29 2023-01-03 04:30:00   \n",
       "1         Sell  1672722000  1672722900   -0.69 2023-01-03 05:00:00   \n",
       "2         Sell  1672723800  1672724700   -0.13 2023-01-03 05:30:00   \n",
       "3         Sell  1672725600  1672726500    0.65 2023-01-03 06:00:00   \n",
       "4         Sell  1672727400  1672728300    1.43 2023-01-03 06:30:00   \n",
       "...        ...         ...         ...     ...                 ...   \n",
       "4479      Sell  1703626200  1703627100   -0.76 2023-12-26 21:30:00   \n",
       "4480      Sell  1703628000  1703628900   -0.18 2023-12-26 22:00:00   \n",
       "4481      Sell  1703629800  1703630700   -1.64 2023-12-26 22:30:00   \n",
       "4482      Sell  1703631600  1703632500    0.03 2023-12-26 23:00:00   \n",
       "4483      Sell  1703633400  1703634300   -1.41 2023-12-26 23:30:00   \n",
       "\n",
       "                 m_close  \n",
       "0    2023-01-03 04:45:00  \n",
       "1    2023-01-03 05:15:00  \n",
       "2    2023-01-03 05:45:00  \n",
       "3    2023-01-03 06:15:00  \n",
       "4    2023-01-03 06:45:00  \n",
       "...                  ...  \n",
       "4479 2023-12-26 21:45:00  \n",
       "4480 2023-12-26 22:15:00  \n",
       "4481 2023-12-26 22:45:00  \n",
       "4482 2023-12-26 23:15:00  \n",
       "4483 2023-12-26 23:45:00  \n",
       "\n",
       "[4484 rows x 6 columns]"
      ]
     },
     "execution_count": 3,
     "metadata": {},
     "output_type": "execute_result"
    }
   ],
   "source": [
    "data_anl['m_open']=pd.to_datetime(data_anl['OpenDate'],unit='s')\n",
    "data_anl['m_close']=pd.to_datetime(data_anl['CloseDate'],unit='s')\n",
    "data_anl"
   ]
  },
  {
   "cell_type": "code",
   "execution_count": 34,
   "metadata": {},
   "outputs": [],
   "source": [
    "data_anl['month']=data_anl['m_open'].dt.month\n",
    "gdata=data_anl.groupby('month')\n",
    "monthly_data_frames = {}\n",
    "\n",
    "# Iterate over groups and store DataFrames in the dictionary\n",
    "for month, group in gdata:\n",
    "    monthly_data_frames[month] = group.copy()\n",
    "\n",
    "# Access DataFrames for specific months\n"
   ]
  },
  {
   "cell_type": "code",
   "execution_count": 39,
   "metadata": {},
   "outputs": [
    {
     "name": "stdout",
     "output_type": "stream",
     "text": [
      "508\n",
      "53.50000000000023\n"
     ]
    },
    {
     "data": {
      "text/plain": [
       "TradeType                   Sell\n",
       "OpenDate              1673538300\n",
       "CloseDate             1673539200\n",
       "Profit                      9.82\n",
       "m_open       2023-01-12 15:45:00\n",
       "m_close      2023-01-12 16:00:00\n",
       "month                          1\n",
       "Name: 226, dtype: object"
      ]
     },
     "execution_count": 39,
     "metadata": {},
     "output_type": "execute_result"
    }
   ],
   "source": [
    "jdata = monthly_data_frames.get(1)\n",
    "profit=jdata['Profit'].sum()\n",
    "idm=jdata['Profit'].idxmax()\n",
    "profmax=jdata.iloc[idm]\n",
    "\n",
    "print(len(jdata))\n",
    "print(profit)\n",
    "profmax"
   ]
  },
  {
   "cell_type": "code",
   "execution_count": 40,
   "metadata": {},
   "outputs": [
    {
     "name": "stdout",
     "output_type": "stream",
     "text": [
      "518\n",
      "363\n",
      "75.19000000000074\n"
     ]
    }
   ],
   "source": [
    "jdata = monthly_data_frames.get(2)\n",
    "profit=jdata['Profit'].sum()\n",
    "idm=jdata['Profit'].idxmax()\n",
    "print(idm)\n",
    "# profmax=jdata.iloc[idm]\n",
    "\n",
    "print(len(jdata))\n",
    "print(profit)\n",
    "# profmax"
   ]
  },
  {
   "cell_type": "code",
   "execution_count": 22,
   "metadata": {},
   "outputs": [
    {
     "name": "stdout",
     "output_type": "stream",
     "text": [
      "483\n",
      "-28.07999999999879\n"
     ]
    }
   ],
   "source": [
    "jdata = monthly_data_frames.get(3)\n",
    "profit=jdata['Profit'].sum()\n",
    "print(len(jdata))\n",
    "print(profit)"
   ]
  },
  {
   "cell_type": "code",
   "execution_count": 23,
   "metadata": {},
   "outputs": [
    {
     "name": "stdout",
     "output_type": "stream",
     "text": [
      "433\n",
      "8.980000000001837\n"
     ]
    }
   ],
   "source": [
    "jdata = monthly_data_frames.get(4)\n",
    "profit=jdata['Profit'].sum()\n",
    "print(len(jdata))\n",
    "print(profit)"
   ]
  },
  {
   "cell_type": "code",
   "execution_count": 24,
   "metadata": {},
   "outputs": [
    {
     "name": "stdout",
     "output_type": "stream",
     "text": [
      "466\n",
      "-10.46000000000095\n"
     ]
    }
   ],
   "source": [
    "jdata = monthly_data_frames.get(5)\n",
    "profit=jdata['Profit'].sum()\n",
    "print(len(jdata))\n",
    "print(profit)"
   ]
  },
  {
   "cell_type": "code",
   "execution_count": 25,
   "metadata": {},
   "outputs": [
    {
     "name": "stdout",
     "output_type": "stream",
     "text": [
      "355\n",
      "32.40000000000191\n"
     ]
    }
   ],
   "source": [
    "jdata = monthly_data_frames.get(6)\n",
    "profit=jdata['Profit'].sum()\n",
    "print(len(jdata))\n",
    "print(profit)"
   ]
  },
  {
   "cell_type": "code",
   "execution_count": 26,
   "metadata": {},
   "outputs": [
    {
     "name": "stdout",
     "output_type": "stream",
     "text": [
      "367\n",
      "24.4099999999994\n"
     ]
    }
   ],
   "source": [
    "jdata = monthly_data_frames.get(7)\n",
    "profit=jdata['Profit'].sum()\n",
    "print(len(jdata))\n",
    "print(profit)"
   ]
  },
  {
   "cell_type": "code",
   "execution_count": 27,
   "metadata": {},
   "outputs": [
    {
     "name": "stdout",
     "output_type": "stream",
     "text": [
      "284\n",
      "74.72000000000207\n"
     ]
    }
   ],
   "source": [
    "jdata = monthly_data_frames.get(8)\n",
    "profit=jdata['Profit'].sum()\n",
    "print(len(jdata))\n",
    "print(profit)"
   ]
  },
  {
   "cell_type": "code",
   "execution_count": 28,
   "metadata": {},
   "outputs": [
    {
     "name": "stdout",
     "output_type": "stream",
     "text": [
      "202\n",
      "-6.589999999998554\n"
     ]
    }
   ],
   "source": [
    "jdata = monthly_data_frames.get(9)\n",
    "profit=jdata['Profit'].sum()\n",
    "print(len(jdata))\n",
    "print(profit)"
   ]
  },
  {
   "cell_type": "code",
   "execution_count": 29,
   "metadata": {},
   "outputs": [
    {
     "name": "stdout",
     "output_type": "stream",
     "text": [
      "415\n",
      "25.139999999999418\n"
     ]
    }
   ],
   "source": [
    "jdata = monthly_data_frames.get(10)\n",
    "profit=jdata['Profit'].sum()\n",
    "print(len(jdata))\n",
    "print(profit)"
   ]
  },
  {
   "cell_type": "code",
   "execution_count": 30,
   "metadata": {},
   "outputs": [
    {
     "name": "stdout",
     "output_type": "stream",
     "text": [
      "337\n",
      "35.28000000000134\n"
     ]
    }
   ],
   "source": [
    "jdata = monthly_data_frames.get(11)\n",
    "profit=jdata['Profit'].sum()\n",
    "print(len(jdata))\n",
    "print(profit)"
   ]
  },
  {
   "cell_type": "code",
   "execution_count": 31,
   "metadata": {},
   "outputs": [
    {
     "name": "stdout",
     "output_type": "stream",
     "text": [
      "271\n",
      "-28.809999999999945\n"
     ]
    }
   ],
   "source": [
    "jdata = monthly_data_frames.get(12)\n",
    "profit=jdata['Profit'].sum()\n",
    "print(len(jdata))\n",
    "print(profit)"
   ]
  }
 ],
 "metadata": {
  "kernelspec": {
   "display_name": "agent00",
   "language": "python",
   "name": "python3"
  },
  "language_info": {
   "codemirror_mode": {
    "name": "ipython",
    "version": 3
   },
   "file_extension": ".py",
   "mimetype": "text/x-python",
   "name": "python",
   "nbconvert_exporter": "python",
   "pygments_lexer": "ipython3",
   "version": "3.10.13"
  }
 },
 "nbformat": 4,
 "nbformat_minor": 2
}
